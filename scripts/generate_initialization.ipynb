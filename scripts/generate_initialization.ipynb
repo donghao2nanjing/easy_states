{
 "cells": [
  {
   "cell_type": "code",
   "execution_count": 1,
   "metadata": {},
   "outputs": [],
   "source": [
    "import pandas as pd \n",
    "import os \n",
    "import math "
   ]
  },
  {
   "cell_type": "code",
   "execution_count": 2,
   "metadata": {
    "tags": []
   },
   "outputs": [
    {
     "output_type": "stream",
     "name": "stdout",
     "text": "<class 'pandas.core.frame.DataFrame'>\nRangeIndex: 5 entries, 0 to 4\nData columns (total 14 columns):\n #   Column                           Non-Null Count  Dtype \n---  ------                           --------------  ----- \n 0   state                            5 non-null      object\n 1   number                           5 non-null      int64 \n 2   level                            5 non-null      object\n 3   period                           5 non-null      int64 \n 4   valid_time_or_cnt                5 non-null      int64 \n 5   recover_time_or_cnt              5 non-null      int64 \n 6   valid_threshold                  5 non-null      int64 \n 7   recover_threshold                5 non-null      int64 \n 8   status.bits.valid                5 non-null      int64 \n 9   status.bits.masked               5 non-null      int64 \n 10  status.bits.check_by             5 non-null      object\n 11  status.bits.recoverable          5 non-null      int64 \n 12  status.bits.check_unmasked_only  5 non-null      int64 \n 13  comment                          5 non-null      object\ndtypes: int64(10), object(4)\nmemory usage: 688.0+ bytes\n"
    },
    {
     "output_type": "execute_result",
     "data": {
      "text/plain": "  state  number        level  period  valid_time_or_cnt  recover_time_or_cnt  \\\n0   ov1       1  LEVEL_STATE      10                 50                  100   \n1   ov2       2  LEVEL_STATE      10                 50                  100   \n2   ov3       3  LEVEL_STATE      10                 50                  100   \n3   uv1       4  LEVEL_ALARM      10                  2                    3   \n4   uv2       5  LEVEL_ALARM      10                  2                    3   \n\n   valid_threshold  recover_threshold  status.bits.valid  status.bits.masked  \\\n0                5                  4                  0                   0   \n1                5                  4                  0                   1   \n2                5                  4                  0                   0   \n3               -5                 -4                  0                   0   \n4               -5                 -4                  0                   1   \n\n  status.bits.check_by  status.bits.recoverable  \\\n0         PERIOD_CHECK                        1   \n1         PERIOD_CHECK                        1   \n2         PERIOD_CHECK                        0   \n3          COUNT_CHECK                        1   \n4          COUNT_CHECK                        1   \n\n   status.bits.check_unmasked_only                      comment  \n0                                0   over voltage state monitor  \n1                                0   over voltage state monitor  \n2                                0   over voltage state monitor  \n3                                0  under voltage state monitor  \n4                                1  under voltage state monitor  ",
      "text/html": "<div>\n<style scoped>\n    .dataframe tbody tr th:only-of-type {\n        vertical-align: middle;\n    }\n\n    .dataframe tbody tr th {\n        vertical-align: top;\n    }\n\n    .dataframe thead th {\n        text-align: right;\n    }\n</style>\n<table border=\"1\" class=\"dataframe\">\n  <thead>\n    <tr style=\"text-align: right;\">\n      <th></th>\n      <th>state</th>\n      <th>number</th>\n      <th>level</th>\n      <th>period</th>\n      <th>valid_time_or_cnt</th>\n      <th>recover_time_or_cnt</th>\n      <th>valid_threshold</th>\n      <th>recover_threshold</th>\n      <th>status.bits.valid</th>\n      <th>status.bits.masked</th>\n      <th>status.bits.check_by</th>\n      <th>status.bits.recoverable</th>\n      <th>status.bits.check_unmasked_only</th>\n      <th>comment</th>\n    </tr>\n  </thead>\n  <tbody>\n    <tr>\n      <th>0</th>\n      <td>ov1</td>\n      <td>1</td>\n      <td>LEVEL_STATE</td>\n      <td>10</td>\n      <td>50</td>\n      <td>100</td>\n      <td>5</td>\n      <td>4</td>\n      <td>0</td>\n      <td>0</td>\n      <td>PERIOD_CHECK</td>\n      <td>1</td>\n      <td>0</td>\n      <td>over voltage state monitor</td>\n    </tr>\n    <tr>\n      <th>1</th>\n      <td>ov2</td>\n      <td>2</td>\n      <td>LEVEL_STATE</td>\n      <td>10</td>\n      <td>50</td>\n      <td>100</td>\n      <td>5</td>\n      <td>4</td>\n      <td>0</td>\n      <td>1</td>\n      <td>PERIOD_CHECK</td>\n      <td>1</td>\n      <td>0</td>\n      <td>over voltage state monitor</td>\n    </tr>\n    <tr>\n      <th>2</th>\n      <td>ov3</td>\n      <td>3</td>\n      <td>LEVEL_STATE</td>\n      <td>10</td>\n      <td>50</td>\n      <td>100</td>\n      <td>5</td>\n      <td>4</td>\n      <td>0</td>\n      <td>0</td>\n      <td>PERIOD_CHECK</td>\n      <td>0</td>\n      <td>0</td>\n      <td>over voltage state monitor</td>\n    </tr>\n    <tr>\n      <th>3</th>\n      <td>uv1</td>\n      <td>4</td>\n      <td>LEVEL_ALARM</td>\n      <td>10</td>\n      <td>2</td>\n      <td>3</td>\n      <td>-5</td>\n      <td>-4</td>\n      <td>0</td>\n      <td>0</td>\n      <td>COUNT_CHECK</td>\n      <td>1</td>\n      <td>0</td>\n      <td>under voltage state monitor</td>\n    </tr>\n    <tr>\n      <th>4</th>\n      <td>uv2</td>\n      <td>5</td>\n      <td>LEVEL_ALARM</td>\n      <td>10</td>\n      <td>2</td>\n      <td>3</td>\n      <td>-5</td>\n      <td>-4</td>\n      <td>0</td>\n      <td>1</td>\n      <td>COUNT_CHECK</td>\n      <td>1</td>\n      <td>1</td>\n      <td>under voltage state monitor</td>\n    </tr>\n  </tbody>\n</table>\n</div>"
     },
     "metadata": {},
     "execution_count": 2
    }
   ],
   "source": [
    "csv_config_path = \"../example/state.csv\"\n",
    "template_path = \"state_init_gen.c.template\"\n",
    "output_cfile_path = \"../example/state_init.c\"\n",
    "\n",
    "df = pd.read_csv(csv_config_path, sep=',', header=0)\n",
    "\n",
    "df.info() \n",
    "df"
   ]
  },
  {
   "cell_type": "code",
   "execution_count": 3,
   "metadata": {},
   "outputs": [],
   "source": [
    "'''\n",
    "period: state check period in ms \n",
    "valid_time_or_cnt: time in ms that state is set valid \n",
    "recover_time_or_cnt: time in ms that state is reset \n",
    "'''\n",
    "def compute_counter_and_step(period:int, valid_time_or_cnt:int, recover_time_or_cnt:int):\n",
    "    if valid_time_or_cnt < period :\n",
    "        valid_time_or_cnt = period\n",
    "        print(\"Warning\")\n",
    "    if recover_time_or_cnt < period:\n",
    "        recover_time_or_cnt = period\n",
    "        print(\"Warning\")\n",
    "    \n",
    "    valid_ticks = int(valid_time_or_cnt/period) \n",
    "    recover_ticks = int(recover_time_or_cnt/period)\n",
    "    \n",
    "    gcd = math.gcd(valid_ticks, recover_ticks)\n",
    "    lcm = valid_ticks * recover_ticks / gcd\n",
    "    \n",
    "    valid_step = lcm / valid_ticks\n",
    "    recover_step = lcm / recover_ticks\n",
    "    \n",
    "    return lcm, valid_step, recover_step \n",
    "    \n",
    "# Test this function:\n",
    "# compute_counter_and_step(100, 400, 300)\n",
    "# compute_counter_and_step(100, 10000, 300)"
   ]
  },
  {
   "cell_type": "code",
   "execution_count": 4,
   "metadata": {},
   "outputs": [],
   "source": [
    "states_gen_list = [] \n",
    "\n",
    "for idx, row in df.iterrows(): \n",
    "    if row['state'].replace(' ', '').replace('\\r', '').replace('\\n', '') == '': \n",
    "        continue # ignore this row \n",
    "    state_init_gen_list = [] \n",
    "\n",
    "    state_init_gen_list.append('\\t/* '  + row['comment'] + ' */\\n')\n",
    "        \n",
    "    for k in row.keys(): \n",
    "        if k in ['state', 'comment', 'period', 'valid_time_or_cnt', 'recover_time_or_cnt']: \n",
    "            continue; \n",
    "            \n",
    "        state_init_gen_list.append( (\"\\t{}.\" + k + \" = {};\\n\").format(row['state'], row[k]) )\n",
    "        \n",
    "    if row['valid_threshold'] > row['recover_threshold']:\n",
    "        state_trig_type = 'OVER_THRESHOLD_VALID'\n",
    "    else:\n",
    "        state_trig_type = 'UNDER_THRESHOLD_VALID'\n",
    "        \n",
    "    state_init_gen_list.append(\"\\t{}.status.bits.type = {};\\n\".format(row['state'], state_trig_type))\n",
    "    \n",
    "    if row['status.bits.check_by'] == 'PERIOD_CHECK':\n",
    "        cnt_max, valid_step, recover_step = compute_counter_and_step(row['period'], \n",
    "                                                                     row['valid_time_or_cnt'],\n",
    "                                                                     row['recover_time_or_cnt'])\n",
    "    elif row['status.bits.check_by'] == 'COUNT_CHECK': \n",
    "        cnt_max, valid_step, recover_step = compute_counter_and_step(1, \n",
    "                                                             row['valid_time_or_cnt'],\n",
    "                                                             row['recover_time_or_cnt'])\n",
    "    else:\n",
    "        print('Warning: Undefined check typoe.')\n",
    "        state_init_gen_list.append(\"\\t{}._cnt_max = {};\\n\".format(row['state'], 0))\n",
    "        state_init_gen_list.append(\"\\t{}._step_valid = {};\\n\".format(row['state'], 0))\n",
    "        state_init_gen_list.append(\"\\t{}._step_recover = {};\\n\".format(row['state'], 0))\n",
    "        continue \n",
    "    \n",
    "    state_init_gen_list.append(\"\\t{}._cnt_max = {};\\n\".format(row['state'], cnt_max))\n",
    "    state_init_gen_list.append(\"\\t{}._step_valid = {};\\n\".format(row['state'], valid_step))\n",
    "    state_init_gen_list.append(\"\\t{}._step_recover = {};\\n\".format(row['state'], recover_step))\n",
    "    \n",
    "    state_init_gen_list.append('\\n')\n",
    "    \n",
    "    states_gen_list += state_init_gen_list "
   ]
  },
  {
   "cell_type": "code",
   "execution_count": 5,
   "metadata": {},
   "outputs": [],
   "source": [
    "states_declaration_list = [] \n",
    "for idx, row in df.iterrows():\n",
    "    states_declaration_list.append(\"state {} ;\\n\".format(row['state']))"
   ]
  },
  {
   "cell_type": "code",
   "execution_count": 6,
   "metadata": {
    "scrolled": false,
    "tags": []
   },
   "outputs": [
    {
     "output_type": "stream",
     "name": "stdout",
     "text": "#include \"state.h\" \n\n\n\n/* decalaration of states */ \n\nstate ov1 ;\n\nstate ov2 ;\n\nstate ov3 ;\n\nstate uv1 ;\n\nstate uv2 ;\n\n\n\nvoid state_init(void){\n\n    /* generated code for state initialization */\n\n\t/* over voltage state monitor */\n\n\tov1.number = 1;\n\n\tov1.level = LEVEL_STATE;\n\n\tov1.valid_threshold = 5;\n\n\tov1.recover_threshold = 4;\n\n\tov1.status.bits.valid = 0;\n\n\tov1.status.bits.masked = 0;\n\n\tov1.status.bits.check_by = PERIOD_CHECK;\n\n\tov1.status.bits.recoverable = 1;\n\n\tov1.status.bits.check_unmasked_only = 0;\n\n\tov1.status.bits.type = OVER_THRESHOLD_VALID;\n\n\tov1._cnt_max = 10.0;\n\n\tov1._step_valid = 2.0;\n\n\tov1._step_recover = 1.0;\n\n\n\n\t/* over voltage state monitor */\n\n\tov2.number = 2;\n\n\tov2.level = LEVEL_STATE;\n\n\tov2.valid_threshold = 5;\n\n\tov2.recover_threshold = 4;\n\n\tov2.status.bits.valid = 0;\n\n\tov2.status.bits.masked = 1;\n\n\tov2.status.bits.check_by = PERIOD_CHECK;\n\n\tov2.status.bits.recoverable = 1;\n\n\tov2.status.bits.check_unmasked_only = 0;\n\n\tov2.status.bits.type = OVER_THRESHOLD_VALID;\n\n\tov2._cnt_max = 10.0;\n\n\tov2._step_valid = 2.0;\n\n\tov2._step_recover = 1.0;\n\n\n\n\t/* over voltage state monitor */\n\n\tov3.number = 3;\n\n\tov3.level = LEVEL_STATE;\n\n\tov3.valid_threshold = 5;\n\n\tov3.recover_threshold = 4;\n\n\tov3.status.bits.valid = 0;\n\n\tov3.status.bits.masked = 0;\n\n\tov3.status.bits.check_by = PERIOD_CHECK;\n\n\tov3.status.bits.recoverable = 0;\n\n\tov3.status.bits.check_unmasked_only = 0;\n\n\tov3.status.bits.type = OVER_THRESHOLD_VALID;\n\n\tov3._cnt_max = 10.0;\n\n\tov3._step_valid = 2.0;\n\n\tov3._step_recover = 1.0;\n\n\n\n\t/* under voltage state monitor */\n\n\tuv1.number = 4;\n\n\tuv1.level = LEVEL_ALARM;\n\n\tuv1.valid_threshold = -5;\n\n\tuv1.recover_threshold = -4;\n\n\tuv1.status.bits.valid = 0;\n\n\tuv1.status.bits.masked = 0;\n\n\tuv1.status.bits.check_by = COUNT_CHECK;\n\n\tuv1.status.bits.recoverable = 1;\n\n\tuv1.status.bits.check_unmasked_only = 0;\n\n\tuv1.status.bits.type = UNDER_THRESHOLD_VALID;\n\n\tuv1._cnt_max = 6.0;\n\n\tuv1._step_valid = 3.0;\n\n\tuv1._step_recover = 2.0;\n\n\n\n\t/* under voltage state monitor */\n\n\tuv2.number = 5;\n\n\tuv2.level = LEVEL_ALARM;\n\n\tuv2.valid_threshold = -5;\n\n\tuv2.recover_threshold = -4;\n\n\tuv2.status.bits.valid = 0;\n\n\tuv2.status.bits.masked = 1;\n\n\tuv2.status.bits.check_by = COUNT_CHECK;\n\n\tuv2.status.bits.recoverable = 1;\n\n\tuv2.status.bits.check_unmasked_only = 1;\n\n\tuv2.status.bits.type = UNDER_THRESHOLD_VALID;\n\n\tuv2._cnt_max = 6.0;\n\n\tuv2._step_valid = 3.0;\n\n\tuv2._step_recover = 2.0;\n\n\n\n}\n"
    }
   ],
   "source": [
    "f_template = open(template_path, 'r')\n",
    "existed_lines = f_template.readlines()\n",
    "\n",
    "def generate_from_template(list_template_lines, inserted_lines, position_line):\n",
    "    index = -1 \n",
    "    for idx, line in enumerate(list_template_lines):\n",
    "        # find the position to insert code \n",
    "        if position_line in line:\n",
    "            index = idx \n",
    "    \n",
    "    if index == -1 :\n",
    "        return list_template_lines # do not insert anything \n",
    "    \n",
    "    return list_template_lines[:index+1] + inserted_lines + list_template_lines[index+1:]\n",
    "\n",
    "\n",
    "\n",
    "existed_lines = generate_from_template(existed_lines, states_gen_list, 'generated code for state initialization')\n",
    "existed_lines = generate_from_template(existed_lines, states_declaration_list, 'decalaration of states')\n",
    "\n",
    "for line in existed_lines: \n",
    "    print(line)"
   ]
  },
  {
   "cell_type": "code",
   "execution_count": 7,
   "metadata": {},
   "outputs": [],
   "source": [
    "with open(output_cfile_path, 'w') as f : \n",
    "    f.writelines(existed_lines)"
   ]
  },
  {
   "cell_type": "code",
   "execution_count": null,
   "metadata": {},
   "outputs": [],
   "source": []
  }
 ],
 "metadata": {
  "kernelspec": {
   "display_name": "Python 3",
   "language": "python",
   "name": "python3"
  },
  "language_info": {
   "codemirror_mode": {
    "name": "ipython",
    "version": 3
   },
   "file_extension": ".py",
   "mimetype": "text/x-python",
   "name": "python",
   "nbconvert_exporter": "python",
   "pygments_lexer": "ipython3",
   "version": "3.8.3-final"
  }
 },
 "nbformat": 4,
 "nbformat_minor": 4
}